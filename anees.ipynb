{
 "cells": [
  {
   "cell_type": "code",
   "execution_count": 2,
   "metadata": {},
   "outputs": [
    {
     "name": "stdout",
     "output_type": "stream",
     "text": [
      "hello word\n"
     ]
    }
   ],
   "source": [
    "#Muhammad Saad khan\n",
    "# PIAIC171998\n",
    "\n",
    "# QUESTION 1\n",
    "a = \"hello word\"\n",
    "print(a)"
   ]
  },
  {
   "cell_type": "code",
   "execution_count": 180,
   "metadata": {},
   "outputs": [
    {
     "name": "stdout",
     "output_type": "stream",
     "text": [
      "Abraham Lincoln once said, 'Whatever you are, be a good one.' \n"
     ]
    }
   ],
   "source": [
    "# QUESTION 2\n",
    "print(\"Abraham Lincoln once said, 'Whatever you are, be a good one.' \")"
   ]
  },
  {
   "cell_type": "code",
   "execution_count": 16,
   "metadata": {},
   "outputs": [
    {
     "name": "stdout",
     "output_type": "stream",
     "text": [
      "0.7853981633974483\n"
     ]
    }
   ],
   "source": [
    "# QUESTION 3\n",
    "import cmath\n",
    "r = 0.5\n",
    "area = cmath.pi * r * r\n",
    "print(area)"
   ]
  },
  {
   "cell_type": "code",
   "execution_count": 57,
   "metadata": {},
   "outputs": [
    {
     "name": "stdout",
     "output_type": "stream",
     "text": [
      "Zero Entered\n"
     ]
    }
   ],
   "source": [
    "# QUESTION 4\n",
    "a = input(\"Enter a number: \")\n",
    "if a > \"0\":\n",
    "    print(\"The number is positive\")    \n",
    "elif a < '0':\n",
    "    print(\"Negative Number Entered\")\n",
    "else:\n",
    "    print(\"Zero Entered\")\n",
    "\n"
   ]
  },
  {
   "cell_type": "code",
   "execution_count": 61,
   "metadata": {},
   "outputs": [
    {
     "name": "stdout",
     "output_type": "stream",
     "text": [
      "NOT vowel\n"
     ]
    }
   ],
   "source": [
    "# QUESTION 5\n",
    "list1 = ['a','e ','i','o','u','A','E','I','O','U']\n",
    "x = input(\"Enter a character: \")\n",
    "\n",
    "if x in list1:\n",
    "    print(\"Vowel\")\n",
    "else:\n",
    "    print(\"NOT vowel\")"
   ]
  },
  {
   "cell_type": "code",
   "execution_count": 64,
   "metadata": {},
   "outputs": [
    {
     "name": "stdout",
     "output_type": "stream",
     "text": [
      "33.333333333333336\n"
     ]
    }
   ],
   "source": [
    "# QUESTION 6 \n",
    "weight = int(input(\"Enter your weight in kgs: \"))\n",
    "height = int(input(\"Enter your height in cm: \"))\n",
    "bmi = weight / (height/100)**2\n",
    "\n",
    "print(bmi)"
   ]
  },
  {
   "cell_type": "code",
   "execution_count": 66,
   "metadata": {},
   "outputs": [
    {
     "name": "stdout",
     "output_type": "stream",
     "text": [
      "asim\n",
      "dua\n",
      "ibtehaj\n",
      "daniyal\n",
      "razeen\n",
      "arbash\n",
      "saram\n",
      "anus\n"
     ]
    }
   ],
   "source": [
    "# QUESTION 7\n",
    "names = [\"asim\", \"dua\",\"ibtehaj\", \"daniyal\", \"razeen\", \"arbash\", \"saram\", \"anus\"]\n",
    "for i in names:\n",
    "    print(i)"
   ]
  },
  {
   "cell_type": "code",
   "execution_count": 86,
   "metadata": {},
   "outputs": [
    {
     "data": {
      "text/plain": [
       "['pizza', 'pasta', 'soup']"
      ]
     },
     "execution_count": 86,
     "metadata": {},
     "output_type": "execute_result"
    }
   ],
   "source": [
    "# QUESTION 8\n",
    "foods = [\"pizza\", \"pasta\", \"soup\", \"salad\", \"noodles\", 'biryani', 'chicken handi', 'chicken karahi', 'chicken tikka']\n",
    "\n",
    "foods[0:3]"
   ]
  },
  {
   "cell_type": "code",
   "execution_count": 87,
   "metadata": {},
   "outputs": [
    {
     "name": "stdout",
     "output_type": "stream",
     "text": [
      "three middel dishes are:  ['salad', 'noodles', 'biryani']\n"
     ]
    }
   ],
   "source": [
    "print(\"three middel dishes are: \", foods[3:6])"
   ]
  },
  {
   "cell_type": "code",
   "execution_count": 88,
   "metadata": {},
   "outputs": [
    {
     "name": "stdout",
     "output_type": "stream",
     "text": [
      "last three dishes are:  ['chicken handi', 'chicken karahi', 'chicken tikka']\n"
     ]
    }
   ],
   "source": [
    "print(\"last three dishes are: \", foods[-3:])"
   ]
  },
  {
   "cell_type": "code",
   "execution_count": 89,
   "metadata": {},
   "outputs": [
    {
     "data": {
      "text/plain": [
       "['salad', 'noodles', 'biryani']"
      ]
     },
     "execution_count": 89,
     "metadata": {},
     "output_type": "execute_result"
    }
   ],
   "source": [
    "foods[3:6]"
   ]
  },
  {
   "cell_type": "code",
   "execution_count": 92,
   "metadata": {},
   "outputs": [
    {
     "data": {
      "text/plain": [
       "['chicken handi', 'chicken karahi', 'chicken tikka']"
      ]
     },
     "execution_count": 92,
     "metadata": {},
     "output_type": "execute_result"
    }
   ],
   "source": [
    "foods[-3:]"
   ]
  },
  {
   "cell_type": "code",
   "execution_count": 179,
   "metadata": {},
   "outputs": [
    {
     "name": "stdout",
     "output_type": "stream",
     "text": [
      "asim is good in maths\n",
      "dua is good in maths\n",
      "ibtehaj is good in maths\n",
      "daniyal is good in maths\n",
      "razeen is good in maths\n",
      "arbash is good in maths\n",
      "saram is good in maths\n",
      "anus is good in maths\n"
     ]
    }
   ],
   "source": [
    "# QUESTION 9\n",
    "for i in names:\n",
    "    print(i , \"is good in maths\")"
   ]
  },
  {
   "cell_type": "code",
   "execution_count": 149,
   "metadata": {},
   "outputs": [],
   "source": [
    "# QUESTION 10 \n",
    "friends_foods = [\"pizza\", \"pasta\", \"soup\", \"salad\", \"noodles\", 'biryani', 'chicken handi', 'chicken karahi', 'chicken tikka']\n"
   ]
  },
  {
   "cell_type": "code",
   "execution_count": 151,
   "metadata": {},
   "outputs": [],
   "source": [
    "friends_foods.append(\"chicken handi\")"
   ]
  },
  {
   "cell_type": "code",
   "execution_count": 152,
   "metadata": {},
   "outputs": [
    {
     "name": "stdout",
     "output_type": "stream",
     "text": [
      "['pizza', 'pasta', 'soup', 'salad', 'noodles', 'biryani', 'chicken handi', 'chicken karahi', 'chicken tikka', 'chicken handi']\n"
     ]
    }
   ],
   "source": [
    "print(friends_foods)"
   ]
  },
  {
   "cell_type": "code",
   "execution_count": 157,
   "metadata": {},
   "outputs": [
    {
     "name": "stdout",
     "output_type": "stream",
     "text": [
      "list one : ['pizza', 'pasta', 'soup', 'salad', 'noodles', 'biryani', 'chicken karahi', 'chicken tikka']\n",
      "list 2 : ['pizza', 'pasta', 'soup', 'salad', 'noodles', 'biryani', 'chicken handi', 'chicken karahi', 'chicken tikka', 'chicken handi']\n"
     ]
    }
   ],
   "source": [
    "print(\"list one :\" ,foods)\n",
    "print(\"list 2 :\", friends_foods)"
   ]
  },
  {
   "cell_type": "code",
   "execution_count": 175,
   "metadata": {},
   "outputs": [
    {
     "name": "stdout",
     "output_type": "stream",
     "text": [
      "My favourite food is   pizza\n",
      "My favourite food is   pasta\n",
      "My favourite food is   soup\n",
      "My favourite food is   salad\n",
      "My favourite food is   noodles\n",
      "My favourite food is   biryani\n",
      "My favourite food is   chicken karahi\n",
      "My favourite food is   chicken tikka\n"
     ]
    }
   ],
   "source": [
    "for i in foods:\n",
    "    \n",
    "    print(\"My favourite food is  \", i)\n"
   ]
  },
  {
   "cell_type": "code",
   "execution_count": 176,
   "metadata": {},
   "outputs": [
    {
     "name": "stdout",
     "output_type": "stream",
     "text": [
      "My friend's favourite food is   pizza\n",
      "My friend's favourite food is   pasta\n",
      "My friend's favourite food is   soup\n",
      "My friend's favourite food is   salad\n",
      "My friend's favourite food is   noodles\n",
      "My friend's favourite food is   biryani\n",
      "My friend's favourite food is   chicken handi\n",
      "My friend's favourite food is   chicken karahi\n",
      "My friend's favourite food is   chicken tikka\n",
      "My friend's favourite food is   chicken handi\n"
     ]
    }
   ],
   "source": [
    "for i in friends_foods:\n",
    "    print(\"My friend's favourite food is  \", i)"
   ]
  }
 ],
 "metadata": {
  "kernelspec": {
   "display_name": "Python 3.8.8 ('base')",
   "language": "python",
   "name": "python3"
  },
  "language_info": {
   "codemirror_mode": {
    "name": "ipython",
    "version": 3
   },
   "file_extension": ".py",
   "mimetype": "text/x-python",
   "name": "python",
   "nbconvert_exporter": "python",
   "pygments_lexer": "ipython3",
   "version": "3.8.8"
  },
  "orig_nbformat": 4,
  "vscode": {
   "interpreter": {
    "hash": "72ac9bc46bde6907b0b214775265cce7138316dca095cf7184d5960928905317"
   }
  }
 },
 "nbformat": 4,
 "nbformat_minor": 2
}
